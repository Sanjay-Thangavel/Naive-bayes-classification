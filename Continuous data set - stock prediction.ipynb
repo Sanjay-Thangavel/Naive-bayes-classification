{
 "cells": [
  {
   "cell_type": "markdown",
   "id": "546724b2",
   "metadata": {},
   "source": [
    "# Naive Bayes Classifier - Stock Prediction"
   ]
  },
  {
   "cell_type": "markdown",
   "id": "7452d1ef",
   "metadata": {},
   "source": [
    "# Aim\n",
    "\n",
    "The aim of this notebook is to predict whether the stock price will move upwards or downwards using the Dataset from Yahoo api.\n",
    "Here we use continuous Datset for prediction.\n"
   ]
  },
  {
   "cell_type": "markdown",
   "id": "4fbdcb47",
   "metadata": {},
   "source": []
  },
  {
   "cell_type": "markdown",
   "id": "715f3688",
   "metadata": {},
   "source": [
    "\n",
    "# Dataset Description\n",
    "\n",
    "The dataset that will be used is the **Stock Price Prediction Dataset**, which was extracted from yahoof API, which contains about **234** rows and **15** features.\n",
    "\n",
    "------------------------------------------------------------\n",
    "<table>\n",
    "    <tr>\n",
    "        <th><center> Name </center></th>\n",
    "        <th><center> Type </center></th>\n",
    "        <th><center> Values </center></th>\n",
    "        <th><center> Description </center></th>\n",
    "    </tr>\n",
    "    <tr>\n",
    "        <td><center> High </center></td>\n",
    "        <td><center> Continuous </center></td>\n",
    "        <td><center> Non-negative numerical</center></td>\n",
    "        <td><center> Highest Price of the Stock in that month. </center></td>\n",
    "    </tr>\n",
    "    <tr>\n",
    "        <td><center> Low  </center></td>\n",
    "        <td><center> Continuous </center></td>\n",
    "        <td><center> Non-negative numerical </center></td>\n",
    "        <td><center> Lowest Price of the Stock in that month.</center></td>\n",
    "    </tr>\n",
    "    <tr>\n",
    "        <td><center> Open </center></td>\n",
    "        <td><center> Continuous </center></td>\n",
    "        <td><center> Non-negative numerical </center></td>\n",
    "        <td><center> Opening Price of the Stock in that month. </center></td>\n",
    "    </tr>\n",
    "    <tr>\n",
    "        <td><center> Close </center></td>\n",
    "        <td><center> Continuous  </center></td>\n",
    "        <td><center> Non-negative numerical </center></td>\n",
    "        <td><center> The closing price is just the cash value of the last transacted price before the market closes.</center></td>\n",
    "    </tr>\n",
    "    <tr>\n",
    "        <td><center> Volume  </center></td>\n",
    "        <td><center> Discrete  </center></td>\n",
    "        <td><center> Non-negative numerical </center></td>\n",
    "        <td><center> Average Trading volume of the Stock in that month </center></td>\n",
    "    </tr>\n",
    "    <tr>\n",
    "        <td><center> Adj Close </center></td>\n",
    "        <td><center> Continuous  </center></td>\n",
    "        <td><center> Non-negative numerical </center></td>\n",
    "        <td><center>  The adjusted closing price factors in anything that might affect the stock price after the market closes  </center></td>\n",
    "    </tr>\n",
    "    <tr>\n",
    "        <td><center> Diff </center></td>\n",
    "        <td><center> Continuous </center></td>\n",
    "        <td><center> Integer value </center></td>\n",
    "        <td><center> The Difference between currently closing and previously closing price.</center></td>\n",
    "    </tr>\n",
    "    <tr>\n",
    "        <td><center> SMA_2 </center></td>\n",
    "        <td><center> Continuous </center></td>\n",
    "        <td><center> Non-negative numerical </center></td>\n",
    "        <td><center> This value is obtained by taking average of previous two closing value  </center></td>\n",
    "    </tr>\n",
    "    <tr>\n",
    "        <td><center> Force_Index </center></td>\n",
    "        <td><center> Continuous </center></td>\n",
    "        <td><center> Non-negative numerical </center></td>\n",
    "        <td><center> The force index is a technical indicator that measures the amount of power used to move the price of an asset. </center></td>\n",
    "    </tr>\n",
    "    <tr>\n",
    "        <td><center> y (Y_predict) </center></td>\n",
    "        <td><center> Binary number </center></td>\n",
    "        <td><center> 0,1 </center></td>\n",
    "        <td><center> The value which indicates whether the movement is upward or downward. </center></td>\n",
    "    </tr>\n",
    "    \n",
    "   \n",
    "\n",
    "</table>"
   ]
  },
  {
   "cell_type": "markdown",
   "id": "a1623309",
   "metadata": {},
   "source": [
    "Importing the modules required for this project. "
   ]
  },
  {
   "cell_type": "code",
   "execution_count": 7,
   "id": "2bb1fcf4",
   "metadata": {},
   "outputs": [
    {
     "name": "stdout",
     "output_type": "stream",
     "text": [
      " Get the today date in Python is:  2022-11-01\n"
     ]
    },
    {
     "data": {
      "text/html": [
       "<div>\n",
       "<style scoped>\n",
       "    .dataframe tbody tr th:only-of-type {\n",
       "        vertical-align: middle;\n",
       "    }\n",
       "\n",
       "    .dataframe tbody tr th {\n",
       "        vertical-align: top;\n",
       "    }\n",
       "\n",
       "    .dataframe thead th {\n",
       "        text-align: right;\n",
       "    }\n",
       "</style>\n",
       "<table border=\"1\" class=\"dataframe\">\n",
       "  <thead>\n",
       "    <tr style=\"text-align: right;\">\n",
       "      <th></th>\n",
       "      <th>High</th>\n",
       "      <th>Low</th>\n",
       "      <th>Open</th>\n",
       "      <th>Close</th>\n",
       "      <th>Volume</th>\n",
       "      <th>Adj Close</th>\n",
       "      <th>Diff</th>\n",
       "    </tr>\n",
       "    <tr>\n",
       "      <th>Date</th>\n",
       "      <th></th>\n",
       "      <th></th>\n",
       "      <th></th>\n",
       "      <th></th>\n",
       "      <th></th>\n",
       "      <th></th>\n",
       "      <th></th>\n",
       "    </tr>\n",
       "  </thead>\n",
       "  <tbody>\n",
       "    <tr>\n",
       "      <th>2010-11-01</th>\n",
       "      <td>11.475000</td>\n",
       "      <td>10.634286</td>\n",
       "      <td>10.793571</td>\n",
       "      <td>11.112500</td>\n",
       "      <td>9.508086e+09</td>\n",
       "      <td>9.488206</td>\n",
       "      <td>NaN</td>\n",
       "    </tr>\n",
       "    <tr>\n",
       "      <th>2010-12-01</th>\n",
       "      <td>11.666429</td>\n",
       "      <td>11.246071</td>\n",
       "      <td>11.259643</td>\n",
       "      <td>11.520000</td>\n",
       "      <td>6.973235e+09</td>\n",
       "      <td>9.836144</td>\n",
       "      <td>0.407500</td>\n",
       "    </tr>\n",
       "    <tr>\n",
       "      <th>2011-01-01</th>\n",
       "      <td>12.450000</td>\n",
       "      <td>11.601429</td>\n",
       "      <td>11.630000</td>\n",
       "      <td>12.118571</td>\n",
       "      <td>1.084154e+10</td>\n",
       "      <td>10.347221</td>\n",
       "      <td>0.598571</td>\n",
       "    </tr>\n",
       "    <tr>\n",
       "      <th>2011-02-01</th>\n",
       "      <td>13.032143</td>\n",
       "      <td>12.061429</td>\n",
       "      <td>12.189286</td>\n",
       "      <td>12.614643</td>\n",
       "      <td>9.295950e+09</td>\n",
       "      <td>10.770782</td>\n",
       "      <td>0.496072</td>\n",
       "    </tr>\n",
       "    <tr>\n",
       "      <th>2011-03-01</th>\n",
       "      <td>12.916786</td>\n",
       "      <td>11.652143</td>\n",
       "      <td>12.695357</td>\n",
       "      <td>12.446786</td>\n",
       "      <td>1.130646e+10</td>\n",
       "      <td>10.627462</td>\n",
       "      <td>-0.167857</td>\n",
       "    </tr>\n",
       "    <tr>\n",
       "      <th>...</th>\n",
       "      <td>...</td>\n",
       "      <td>...</td>\n",
       "      <td>...</td>\n",
       "      <td>...</td>\n",
       "      <td>...</td>\n",
       "      <td>...</td>\n",
       "      <td>...</td>\n",
       "    </tr>\n",
       "    <tr>\n",
       "      <th>2022-07-01</th>\n",
       "      <td>163.630005</td>\n",
       "      <td>135.660004</td>\n",
       "      <td>136.039993</td>\n",
       "      <td>162.509995</td>\n",
       "      <td>1.447125e+09</td>\n",
       "      <td>162.284576</td>\n",
       "      <td>25.789993</td>\n",
       "    </tr>\n",
       "    <tr>\n",
       "      <th>2022-08-01</th>\n",
       "      <td>176.149994</td>\n",
       "      <td>157.139999</td>\n",
       "      <td>161.009995</td>\n",
       "      <td>157.220001</td>\n",
       "      <td>1.510240e+09</td>\n",
       "      <td>157.001923</td>\n",
       "      <td>-5.289993</td>\n",
       "    </tr>\n",
       "    <tr>\n",
       "      <th>2022-09-01</th>\n",
       "      <td>164.259995</td>\n",
       "      <td>138.000000</td>\n",
       "      <td>156.639999</td>\n",
       "      <td>138.199997</td>\n",
       "      <td>2.084238e+09</td>\n",
       "      <td>138.199997</td>\n",
       "      <td>-19.020004</td>\n",
       "    </tr>\n",
       "    <tr>\n",
       "      <th>2022-10-01</th>\n",
       "      <td>157.500000</td>\n",
       "      <td>134.369995</td>\n",
       "      <td>138.210007</td>\n",
       "      <td>155.740005</td>\n",
       "      <td>1.769857e+09</td>\n",
       "      <td>155.740005</td>\n",
       "      <td>17.540009</td>\n",
       "    </tr>\n",
       "    <tr>\n",
       "      <th>2022-10-31</th>\n",
       "      <td>154.240005</td>\n",
       "      <td>151.929993</td>\n",
       "      <td>153.154999</td>\n",
       "      <td>153.339996</td>\n",
       "      <td>9.794317e+07</td>\n",
       "      <td>153.339996</td>\n",
       "      <td>-2.400009</td>\n",
       "    </tr>\n",
       "  </tbody>\n",
       "</table>\n",
       "<p>145 rows × 7 columns</p>\n",
       "</div>"
      ],
      "text/plain": [
       "                  High         Low        Open       Close        Volume  \\\n",
       "Date                                                                       \n",
       "2010-11-01   11.475000   10.634286   10.793571   11.112500  9.508086e+09   \n",
       "2010-12-01   11.666429   11.246071   11.259643   11.520000  6.973235e+09   \n",
       "2011-01-01   12.450000   11.601429   11.630000   12.118571  1.084154e+10   \n",
       "2011-02-01   13.032143   12.061429   12.189286   12.614643  9.295950e+09   \n",
       "2011-03-01   12.916786   11.652143   12.695357   12.446786  1.130646e+10   \n",
       "...                ...         ...         ...         ...           ...   \n",
       "2022-07-01  163.630005  135.660004  136.039993  162.509995  1.447125e+09   \n",
       "2022-08-01  176.149994  157.139999  161.009995  157.220001  1.510240e+09   \n",
       "2022-09-01  164.259995  138.000000  156.639999  138.199997  2.084238e+09   \n",
       "2022-10-01  157.500000  134.369995  138.210007  155.740005  1.769857e+09   \n",
       "2022-10-31  154.240005  151.929993  153.154999  153.339996  9.794317e+07   \n",
       "\n",
       "             Adj Close       Diff  \n",
       "Date                               \n",
       "2010-11-01    9.488206        NaN  \n",
       "2010-12-01    9.836144   0.407500  \n",
       "2011-01-01   10.347221   0.598571  \n",
       "2011-02-01   10.770782   0.496072  \n",
       "2011-03-01   10.627462  -0.167857  \n",
       "...                ...        ...  \n",
       "2022-07-01  162.284576  25.789993  \n",
       "2022-08-01  157.001923  -5.289993  \n",
       "2022-09-01  138.199997 -19.020004  \n",
       "2022-10-01  155.740005  17.540009  \n",
       "2022-10-31  153.339996  -2.400009  \n",
       "\n",
       "[145 rows x 7 columns]"
      ]
     },
     "execution_count": 7,
     "metadata": {},
     "output_type": "execute_result"
    }
   ],
   "source": [
    "import numpy as np \n",
    "import pandas as pd\n",
    "import matplotlib.pyplot as plt\n",
    "import seaborn as sns\n",
    "sns.set_style(\"darkgrid\")\n",
    "\n",
    "import pandas_datareader as pdr\n",
    "\n",
    "from sklearn.model_selection import train_test_split\n",
    "\n",
    "from sklearn.metrics import confusion_matrix\n",
    "from sklearn.metrics import f1_score\n",
    "\n",
    "from sklearn.metrics import accuracy_score\n",
    "\n",
    "from sklearn.naive_bayes import BernoulliNB\n",
    "from datetime import date \n",
    "\n",
    "\n",
    "\n",
    "td = date.today() # Use the today method and assign it to the td variable.\n",
    "\n",
    "print(\" Get the today date in Python is: \", td)  \n",
    "\n",
    "                     #   CODE    FROM_DATE  TO_DATE\n",
    "df = pdr.get_data_yahoo(\"AAPL\", \"2010-11-01\", td, interval =\"m\")\n",
    "df.to_csv(\"APP.csv\")\n",
    "\n",
    "df\n",
    "\n",
    "df[\"Diff\"] = df.Close.diff()\n",
    "\n",
    "# BINARY CLASSIFICATION\n",
    "\n",
    "\n",
    "df\n"
   ]
  },
  {
   "cell_type": "markdown",
   "id": "8197a5eb",
   "metadata": {},
   "source": [
    "# Overview of the dataset"
   ]
  },
  {
   "cell_type": "markdown",
   "id": "4ddb04aa",
   "metadata": {},
   "source": [
    "Adding features by calculating features from the previous features obtained."
   ]
  },
  {
   "cell_type": "code",
   "execution_count": 8,
   "id": "74d1d21a",
   "metadata": {},
   "outputs": [
    {
     "name": "stdout",
     "output_type": "stream",
     "text": [
      "                  High         Low        Open       Close        Volume  \\\n",
      "Date                                                                       \n",
      "2010-11-01   11.475000   10.634286   10.793571   11.112500  9.508086e+09   \n",
      "2010-12-01   11.666429   11.246071   11.259643   11.520000  6.973235e+09   \n",
      "2011-01-01   12.450000   11.601429   11.630000   12.118571  1.084154e+10   \n",
      "2011-02-01   13.032143   12.061429   12.189286   12.614643  9.295950e+09   \n",
      "2011-03-01   12.916786   11.652143   12.695357   12.446786  1.130646e+10   \n",
      "...                ...         ...         ...         ...           ...   \n",
      "2022-07-01  163.630005  135.660004  136.039993  162.509995  1.447125e+09   \n",
      "2022-08-01  176.149994  157.139999  161.009995  157.220001  1.510240e+09   \n",
      "2022-09-01  164.259995  138.000000  156.639999  138.199997  2.084238e+09   \n",
      "2022-10-01  157.500000  134.369995  138.210007  155.740005  1.769857e+09   \n",
      "2022-10-31  154.240005  151.929993  153.154999  153.339996  9.794317e+07   \n",
      "\n",
      "                 Diff       SMA_2   Force_Index    y  \n",
      "Date                                                  \n",
      "2010-11-01        NaN         NaN  1.056586e+11  1.0  \n",
      "2010-12-01   0.407500   11.316250  8.033167e+10  1.0  \n",
      "2011-01-01   0.598571   11.819286  1.313839e+11  1.0  \n",
      "2011-02-01   0.496072   12.366607  1.172651e+11  0.0  \n",
      "2011-03-01  -0.167857   12.530715  1.407291e+11  1.0  \n",
      "...               ...         ...           ...  ...  \n",
      "2022-07-01  25.789993  149.614998  2.351723e+11  0.0  \n",
      "2022-08-01  -5.289993  159.864998  2.374399e+11  0.0  \n",
      "2022-09-01 -19.020004  147.709999  2.880417e+11  1.0  \n",
      "2022-10-01  17.540009  146.970001  2.756376e+11  0.0  \n",
      "2022-10-31  -2.400009  154.540001  1.501861e+10  NaN  \n",
      "\n",
      "[145 rows x 9 columns]\n"
     ]
    }
   ],
   "source": [
    "df[\"SMA_2\"] = df.Close.rolling(2).mean()\n",
    "\n",
    "\n",
    "# rolling (2)  Avg of 2 column and printing in in below column  \n",
    "\n",
    "df[\"Force_Index\"] = df[\"Close\"] * df[\"Volume\"]\n",
    "\n",
    "df[\"y\"] = df[\"Diff\"].apply(lambda x: 1 if x > 0 else 0).shift(-1)\n",
    "\n",
    "df.drop( ['Adj Close'] , axis =1, inplace=True)\n",
    "\n",
    "print(df)\n",
    "\n"
   ]
  },
  {
   "cell_type": "code",
   "execution_count": 9,
   "id": "19f1d3d5",
   "metadata": {},
   "outputs": [
    {
     "name": "stdout",
     "output_type": "stream",
     "text": [
      "<class 'pandas.core.frame.DataFrame'>\n",
      "DatetimeIndex: 145 entries, 2010-11-01 to 2022-10-31\n",
      "Data columns (total 9 columns):\n",
      " #   Column       Non-Null Count  Dtype  \n",
      "---  ------       --------------  -----  \n",
      " 0   High         145 non-null    float64\n",
      " 1   Low          145 non-null    float64\n",
      " 2   Open         145 non-null    float64\n",
      " 3   Close        145 non-null    float64\n",
      " 4   Volume       145 non-null    float64\n",
      " 5   Diff         144 non-null    float64\n",
      " 6   SMA_2        144 non-null    float64\n",
      " 7   Force_Index  145 non-null    float64\n",
      " 8   y            144 non-null    float64\n",
      "dtypes: float64(9)\n",
      "memory usage: 11.3 KB\n"
     ]
    }
   ],
   "source": [
    "df.info()"
   ]
  },
  {
   "cell_type": "markdown",
   "id": "9b1104e8",
   "metadata": {},
   "source": [
    "#  Independent Features are found  "
   ]
  },
  {
   "cell_type": "markdown",
   "id": "aa8c47a7",
   "metadata": {},
   "source": [
    "Navie bayes classifier only works on independent Datasets."
   ]
  },
  {
   "cell_type": "code",
   "execution_count": 13,
   "id": "b5146d06",
   "metadata": {},
   "outputs": [
    {
     "data": {
      "text/plain": [
       "<AxesSubplot:>"
      ]
     },
     "execution_count": 13,
     "metadata": {},
     "output_type": "execute_result"
    },
    {
     "data": {
      "image/png": "[encoded data removed]",
      "text/plain": [
       "<Figure size 640x480 with 2 Axes>"
      ]
     },
     "metadata": {},
     "output_type": "display_data"
    }
   ],
   "source": [
    "corr = df.iloc[:,:-1].corr(method=\"pearson\")\n",
    "cmap = sns.diverging_palette(250,354,80,60,center='dark',as_cmap=True)\n",
    "sns.heatmap(corr, vmax=1, vmin=-.5, cmap=cmap, square=True, linewidths=.2)"
   ]
  },
  {
   "cell_type": "code",
   "execution_count": 14,
   "id": "cb79e9dd",
   "metadata": {},
   "outputs": [
    {
     "name": "stdout",
     "output_type": "stream",
     "text": [
      "High\n",
      "Low\n",
      "Open\n",
      "Close\n",
      "Volume\n",
      "Diff\n",
      "SMA_2\n",
      "Force_Index\n",
      "y\n"
     ]
    }
   ],
   "source": [
    "for col_name in df.columns: \n",
    "    print(col_name)"
   ]
  },
  {
   "cell_type": "code",
   "execution_count": 15,
   "id": "ea4a3942",
   "metadata": {},
   "outputs": [
    {
     "data": {
      "text/plain": [
       "<AxesSubplot:>"
      ]
     },
     "execution_count": 15,
     "metadata": {},
     "output_type": "execute_result"
    },
    {
     "data": {
      "image/png": "[encoded data removed]",
      "text/plain": [
       "<Figure size 640x480 with 1 Axes>"
      ]
     },
     "metadata": {},
     "output_type": "display_data"
    }
   ],
   "source": [
    "df[\"y\"].hist()"
   ]
  },
  {
   "cell_type": "code",
   "execution_count": 16,
   "id": "d1b4cac7",
   "metadata": {},
   "outputs": [],
   "source": [
    "#TAKING UNIQUE DATA COLUMNS AS DATASET \n",
    "dataset = df[[\"SMA_2\", \"Volume\", \"Force_Index\", \"y\"]]"
   ]
  },
  {
   "cell_type": "markdown",
   "id": "e66d5564",
   "metadata": {},
   "source": [
    "# Continous Dataset "
   ]
  },
  {
   "cell_type": "markdown",
   "id": "c04ed593",
   "metadata": {},
   "source": [
    "If the Datset is continous predicting navie bayes directly is not possible.\n",
    "So we use Gausian Distribution or Categorical Classification."
   ]
  },
  {
   "cell_type": "markdown",
   "id": "5356454f",
   "metadata": {},
   "source": [
    "# 1. Considering Gausian Distribution for Continous Datasets "
   ]
  },
  {
   "cell_type": "code",
   "execution_count": 17,
   "id": "82ce3f63",
   "metadata": {},
   "outputs": [
    {
     "data": {
      "text/plain": [
       "<AxesSubplot:xlabel='Force_Index', ylabel='Count'>"
      ]
     },
     "execution_count": 17,
     "metadata": {},
     "output_type": "execute_result"
    },
    {
     "data": {
      "image/png": "[encoded data removed]",
      "text/plain": [
       "<Figure size 1800x600 with 3 Axes>"
      ]
     },
     "metadata": {},
     "output_type": "display_data"
    }
   ],
   "source": [
    "fig, axes = plt.subplots(1, 3, figsize=(18, 6), sharey=True)\n",
    "sns.histplot(dataset, ax=axes[0], x=\"SMA_2\", kde=True, color='r')\n",
    "sns.histplot(dataset, ax=axes[1], x=\"Volume\", kde=True, color='b')\n",
    "sns.histplot(dataset, ax=axes[2], x=\"Force_Index\", kde=True)"
   ]
  },
  {
   "cell_type": "markdown",
   "id": "ea6a4d49",
   "metadata": {},
   "source": [
    "Gausian Distribution is found in the given dataset by plotting."
   ]
  },
  {
   "cell_type": "code",
   "execution_count": 18,
   "id": "2d72afce",
   "metadata": {},
   "outputs": [],
   "source": [
    "def calculate_prior(dataset, Y):\n",
    "    classes = sorted(list(dataset[Y].unique()))\n",
    "    prior = []\n",
    "    for i in classes:\n",
    "        prior.append(len(dataset[dataset[Y]==i])/len(dataset))\n",
    "    return prior"
   ]
  },
  {
   "cell_type": "code",
   "execution_count": 19,
   "id": "07de07c0",
   "metadata": {},
   "outputs": [],
   "source": [
    "def calculate_likelihood_gaussian(dataset, feat_name, feat_val, Y, label):\n",
    "    feat = list(dataset.columns)\n",
    "    dataset = dataset[dataset[Y]==label]\n",
    "    mean, std = dataset[feat_name].mean(), dataset[feat_name].std()\n",
    "    p_x_given_y = (1 / (np.sqrt(2 * np.pi) * std)) *  np.exp(-((feat_val-mean)**2 / (2 * std**2 )))\n",
    "    return p_x_given_y"
   ]
  },
  {
   "cell_type": "code",
   "execution_count": 20,
   "id": "bcc15b89",
   "metadata": {},
   "outputs": [],
   "source": [
    "def naive_bayes_gaussian(dataset, X, Y):\n",
    "    # get feature names\n",
    "    features = list(dataset.columns)[:-1]\n",
    "\n",
    "    # calculate prior\n",
    "    prior = calculate_prior(dataset, Y)\n",
    "\n",
    "    Y_pred = []\n",
    "    # loop over every data sample\n",
    "    for x in X:\n",
    "        # calculate likelihood\n",
    "        labels = sorted(list(dataset[Y].unique()))\n",
    "        likelihood = [1]*len(labels)\n",
    "        for j in range(len(labels)):\n",
    "            for i in range(len(features)):\n",
    "                likelihood[j] *= calculate_likelihood_gaussian(dataset, features[i], x[i], Y, labels[j])\n",
    "\n",
    "        # calculate posterior probability (numerator only)\n",
    "        post_prob = [1]*len(labels)\n",
    "        for j in range(len(labels)):\n",
    "            post_prob[j] = likelihood[j] * prior[j]\n",
    "\n",
    "        Y_pred.append(np.argmax(post_prob))\n",
    "\n",
    "    return np.array(Y_pred) "
   ]
  },
  {
   "cell_type": "markdown",
   "id": "16e8680b",
   "metadata": {},
   "source": [
    "# Predicting Accuracy in Gausian Distribution Model"
   ]
  },
  {
   "cell_type": "code",
   "execution_count": 21,
   "id": "2a616093",
   "metadata": {},
   "outputs": [
    {
     "name": "stdout",
     "output_type": "stream",
     "text": [
      "[[1.13955002e+02 2.12307730e+09 2.52752359e+11]\n",
      " [2.80074997e+01 2.88622000e+09 7.97462562e+10]\n",
      " [2.53249998e+01 5.08739200e+09 1.23801680e+11]\n",
      " [4.26350002e+01 2.12473520e+09 8.98922322e+10]\n",
      " [1.99480362e+01 7.05739720e+09 1.41405034e+11]\n",
      " [3.19287500e+01 3.81660840e+09 1.24306934e+11]\n",
      " [2.25432148e+01 1.21428300e+10 2.58173916e+11]\n",
      " [1.26610004e+02 1.83385560e+09 2.22373334e+11]\n",
      " [1.46665001e+02 1.79783510e+09 2.54393667e+11]\n",
      " [1.71435005e+02 2.44476670e+09 4.34117241e+11]\n",
      " [5.13699989e+01 1.89540680e+09 1.00949363e+11]\n",
      " [4.31937485e+01 3.71157720e+09 1.65276528e+11]\n",
      " [8.53424988e+01 3.24337560e+09 2.95795845e+11]\n",
      " [1.12334999e+02 2.89466650e+09 3.15113397e+11]\n",
      " [7.28587494e+01 3.01927920e+09 2.06337529e+11]\n",
      " [2.29198217e+01 4.82773920e+09 1.12160451e+11]\n",
      " [2.86637497e+01 4.29437840e+09 1.18503369e+11]\n",
      " [1.59376788e+01 9.44753040e+09 1.51744218e+11]\n",
      " [3.22925005e+01 2.29987440e+09 7.87649517e+10]\n",
      " [1.83364286e+01 5.88036680e+09 1.10517300e+11]\n",
      " [1.18192859e+01 1.08415356e+10 1.31383922e+11]\n",
      " [2.42537498e+01 3.24345040e+09 7.84023068e+10]\n",
      " [3.08412504e+01 4.23312240e+09 1.28369440e+11]\n",
      " [1.69949997e+02 1.62751630e+09 2.68735484e+11]\n",
      " [6.59562473e+01 6.28007240e+09 3.99239892e+11]\n",
      " [3.07025013e+01 4.54614080e+09 1.45999319e+11]\n",
      " [2.01219645e+01 6.43506080e+09 1.35616604e+11]\n",
      " [1.89574995e+01 8.76595440e+09 1.56722734e+11]\n",
      " [2.49762497e+01 2.74311840e+09 7.14650915e+10]]\n",
      "[[ 0 12]\n",
      " [ 0 17]]\n",
      "ACCURACY : \n",
      "0.5862068965517241\n"
     ]
    }
   ],
   "source": [
    "\n",
    "train, test = train_test_split(dataset, test_size=.2, random_state=41)\n",
    "\n",
    "X_test = test.iloc[:,:-1].values\n",
    "Y_test = test.iloc[:,-1].values\n",
    "Y_pred = naive_bayes_gaussian(train, X=X_test, Y=\"y\")\n",
    "\n",
    "print(X_test)\n",
    "print(confusion_matrix(Y_test, Y_pred))\n",
    "\n",
    "\n",
    "print(\"ACCURACY : \")\n",
    "\n",
    "print(accuracy_score(Y_test, Y_pred))\n",
    "#print(f1_score(Y_test, Y_pred))\n"
   ]
  },
  {
   "cell_type": "markdown",
   "id": "ea710a30",
   "metadata": {},
   "source": [
    "# Alter :\n",
    "# 2. Consider Categorical Classification model "
   ]
  },
  {
   "cell_type": "code",
   "execution_count": 22,
   "id": "8ab8a083",
   "metadata": {},
   "outputs": [
    {
     "name": "stderr",
     "output_type": "stream",
     "text": [
      "C:\\Users\\Sanjay T\\AppData\\Local\\Temp\\ipykernel_23268\\494255664.py:2: SettingWithCopyWarning: \n",
      "A value is trying to be set on a copy of a slice from a DataFrame.\n",
      "Try using .loc[row_indexer,col_indexer] = value instead\n",
      "\n",
      "See the caveats in the documentation: https://pandas.pydata.org/pandas-docs/stable/user_guide/indexing.html#returning-a-view-versus-a-copy\n",
      "  data[\"cat_SMA_2\"] = pd.cut(dataset[\"SMA_2\"].values, bins = 3, labels = [0,1,2])\n",
      "C:\\Users\\Sanjay T\\AppData\\Local\\Temp\\ipykernel_23268\\494255664.py:3: SettingWithCopyWarning: \n",
      "A value is trying to be set on a copy of a slice from a DataFrame.\n",
      "Try using .loc[row_indexer,col_indexer] = value instead\n",
      "\n",
      "See the caveats in the documentation: https://pandas.pydata.org/pandas-docs/stable/user_guide/indexing.html#returning-a-view-versus-a-copy\n",
      "  data[\"cat_Volume\"] = pd.cut(dataset[\"Volume\"].values, bins = 3, labels = [0,1,2] )\n"
     ]
    },
    {
     "data": {
      "text/html": [
       "<div>\n",
       "<style scoped>\n",
       "    .dataframe tbody tr th:only-of-type {\n",
       "        vertical-align: middle;\n",
       "    }\n",
       "\n",
       "    .dataframe tbody tr th {\n",
       "        vertical-align: top;\n",
       "    }\n",
       "\n",
       "    .dataframe thead th {\n",
       "        text-align: right;\n",
       "    }\n",
       "</style>\n",
       "<table border=\"1\" class=\"dataframe\">\n",
       "  <thead>\n",
       "    <tr style=\"text-align: right;\">\n",
       "      <th></th>\n",
       "      <th>y</th>\n",
       "      <th>cat_SMA_2</th>\n",
       "      <th>cat_Volume</th>\n",
       "      <th>cat_Force_Index</th>\n",
       "    </tr>\n",
       "    <tr>\n",
       "      <th>Date</th>\n",
       "      <th></th>\n",
       "      <th></th>\n",
       "      <th></th>\n",
       "      <th></th>\n",
       "    </tr>\n",
       "  </thead>\n",
       "  <tbody>\n",
       "    <tr>\n",
       "      <th>2010-11-01</th>\n",
       "      <td>1.0</td>\n",
       "      <td>NaN</td>\n",
       "      <td>1</td>\n",
       "      <td>0</td>\n",
       "    </tr>\n",
       "    <tr>\n",
       "      <th>2010-12-01</th>\n",
       "      <td>1.0</td>\n",
       "      <td>0</td>\n",
       "      <td>1</td>\n",
       "      <td>0</td>\n",
       "    </tr>\n",
       "    <tr>\n",
       "      <th>2011-01-01</th>\n",
       "      <td>1.0</td>\n",
       "      <td>0</td>\n",
       "      <td>2</td>\n",
       "      <td>0</td>\n",
       "    </tr>\n",
       "    <tr>\n",
       "      <th>2011-02-01</th>\n",
       "      <td>0.0</td>\n",
       "      <td>0</td>\n",
       "      <td>1</td>\n",
       "      <td>0</td>\n",
       "    </tr>\n",
       "    <tr>\n",
       "      <th>2011-03-01</th>\n",
       "      <td>1.0</td>\n",
       "      <td>0</td>\n",
       "      <td>2</td>\n",
       "      <td>0</td>\n",
       "    </tr>\n",
       "    <tr>\n",
       "      <th>...</th>\n",
       "      <td>...</td>\n",
       "      <td>...</td>\n",
       "      <td>...</td>\n",
       "      <td>...</td>\n",
       "    </tr>\n",
       "    <tr>\n",
       "      <th>2022-07-01</th>\n",
       "      <td>0.0</td>\n",
       "      <td>2</td>\n",
       "      <td>0</td>\n",
       "      <td>1</td>\n",
       "    </tr>\n",
       "    <tr>\n",
       "      <th>2022-08-01</th>\n",
       "      <td>0.0</td>\n",
       "      <td>2</td>\n",
       "      <td>0</td>\n",
       "      <td>1</td>\n",
       "    </tr>\n",
       "    <tr>\n",
       "      <th>2022-09-01</th>\n",
       "      <td>1.0</td>\n",
       "      <td>2</td>\n",
       "      <td>0</td>\n",
       "      <td>1</td>\n",
       "    </tr>\n",
       "    <tr>\n",
       "      <th>2022-10-01</th>\n",
       "      <td>0.0</td>\n",
       "      <td>2</td>\n",
       "      <td>0</td>\n",
       "      <td>1</td>\n",
       "    </tr>\n",
       "    <tr>\n",
       "      <th>2022-10-28</th>\n",
       "      <td>NaN</td>\n",
       "      <td>2</td>\n",
       "      <td>0</td>\n",
       "      <td>0</td>\n",
       "    </tr>\n",
       "  </tbody>\n",
       "</table>\n",
       "<p>145 rows × 4 columns</p>\n",
       "</div>"
      ],
      "text/plain": [
       "              y cat_SMA_2 cat_Volume cat_Force_Index\n",
       "Date                                                \n",
       "2010-11-01  1.0       NaN          1               0\n",
       "2010-12-01  1.0         0          1               0\n",
       "2011-01-01  1.0         0          2               0\n",
       "2011-02-01  0.0         0          1               0\n",
       "2011-03-01  1.0         0          2               0\n",
       "...         ...       ...        ...             ...\n",
       "2022-07-01  0.0         2          0               1\n",
       "2022-08-01  0.0         2          0               1\n",
       "2022-09-01  1.0         2          0               1\n",
       "2022-10-01  0.0         2          0               1\n",
       "2022-10-28  NaN         2          0               0\n",
       "\n",
       "[145 rows x 4 columns]"
      ]
     },
     "execution_count": 22,
     "metadata": {},
     "output_type": "execute_result"
    }
   ],
   "source": [
    "data = dataset[[\"y\"]]\n",
    "data[\"cat_SMA_2\"] = pd.cut(dataset[\"SMA_2\"].values, bins = 3, labels = [0,1,2])\n",
    "data[\"cat_Volume\"] = pd.cut(dataset[\"Volume\"].values, bins = 3, labels = [0,1,2] )\n",
    "data[\"cat_Force_Index\"] = pd.cut(dataset[\"Force_Index\"].values, bins = 3, labels = [0,1,2] )\n",
    "\n",
    "#data = data.drop(columns=[\"mean_radius\", \"mean_texture\", \"mean_smoothness\"])\n",
    "\n",
    "data"
   ]
  },
  {
   "cell_type": "markdown",
   "id": "1a5e3fb3",
   "metadata": {},
   "source": [
    "Here Datsets are categorized and is ready for Probablity calculation."
   ]
  },
  {
   "cell_type": "code",
   "execution_count": 23,
   "id": "81532e3a",
   "metadata": {},
   "outputs": [],
   "source": [
    "def calculate_likelihood_categorical(df, feat_name, feat_val, Y, label):\n",
    "    feat = list(df.columns)\n",
    "    df = df[df[Y]==label]\n",
    "    p_x_given_y = len(df[df[feat_name]==feat_val]) / (len(df)+1)\n",
    "    return p_x_given_y"
   ]
  },
  {
   "cell_type": "code",
   "execution_count": 24,
   "id": "dc9be3f5",
   "metadata": {},
   "outputs": [],
   "source": [
    "def naive_bayes_categorical(df, X, Y):\n",
    "    # get feature names\n",
    "    features = list(df.columns)[:-1]\n",
    "\n",
    "    # calculate prior\n",
    "    prior = calculate_prior(df, Y)\n",
    "\n",
    "    Y_pred = []\n",
    "    # loop over every data sample\n",
    "    for x in X:\n",
    "        # calculate likelihood\n",
    "        labels = sorted(list(df[Y].unique()))\n",
    "        likelihood = [1]*len(labels)\n",
    "        for j in range(len(labels)):\n",
    "            for i in range(len(features)):\n",
    "                likelihood[j] *= calculate_likelihood_categorical(df, features[i], x[i], Y, labels[j])\n",
    "\n",
    "        # calculate posterior probability (numerator only)\n",
    "        post_prob = [1]*len(labels)\n",
    "        for j in range(len(labels)):\n",
    "            post_prob[j] = likelihood[j] * prior[j]\n",
    "\n",
    "        Y_pred.append(np.argmax(post_prob))\n",
    "\n",
    "    return np.array(Y_pred) "
   ]
  },
  {
   "cell_type": "markdown",
   "id": "d5e84d33",
   "metadata": {},
   "source": [
    "# Predicting Accuracy in Categorical Classification model"
   ]
  },
  {
   "cell_type": "code",
   "execution_count": 25,
   "id": "8f6b381b",
   "metadata": {},
   "outputs": [
    {
     "name": "stdout",
     "output_type": "stream",
     "text": [
      "CONFUSION MATRIX :\n",
      "[[ 9  0 10]\n",
      " [ 2  0  6]\n",
      " [ 1  0  1]]\n",
      "ACCURACY \n",
      "0.3448275862068966\n"
     ]
    }
   ],
   "source": [
    "train, test = train_test_split(data, test_size=.2, random_state=41)\n",
    "\n",
    "X_test = test.iloc[:,:-1].values\n",
    "Y_test = test.iloc[:,-1].values\n",
    "Y_pred = naive_bayes_categorical(train, X=X_test, Y=\"y\")\n",
    "\n",
    "print(\"CONFUSION MATRIX :\")\n",
    "print(confusion_matrix(Y_test, Y_pred))\n",
    "\n",
    "print(\"ACCURACY \")\n",
    "print(accuracy_score(Y_test, Y_pred))\n",
    "#print(f1_score(Y_test, Y_pred))"
   ]
  },
  {
   "cell_type": "markdown",
   "id": "8c5124a7",
   "metadata": {},
   "source": [
    "# Predicting the class when  sample Instance is given"
   ]
  },
  {
   "cell_type": "code",
   "execution_count": 26,
   "id": "9a5f9e59",
   "metadata": {},
   "outputs": [
    {
     "data": {
      "text/html": [
       "<div>\n",
       "<style scoped>\n",
       "    .dataframe tbody tr th:only-of-type {\n",
       "        vertical-align: middle;\n",
       "    }\n",
       "\n",
       "    .dataframe tbody tr th {\n",
       "        vertical-align: top;\n",
       "    }\n",
       "\n",
       "    .dataframe thead th {\n",
       "        text-align: right;\n",
       "    }\n",
       "</style>\n",
       "<table border=\"1\" class=\"dataframe\">\n",
       "  <thead>\n",
       "    <tr style=\"text-align: right;\">\n",
       "      <th></th>\n",
       "      <th>y</th>\n",
       "      <th>cat_SMA_2</th>\n",
       "      <th>cat_Volume</th>\n",
       "      <th>cat_Force_Index</th>\n",
       "    </tr>\n",
       "    <tr>\n",
       "      <th>Date</th>\n",
       "      <th></th>\n",
       "      <th></th>\n",
       "      <th></th>\n",
       "      <th></th>\n",
       "    </tr>\n",
       "  </thead>\n",
       "  <tbody>\n",
       "    <tr>\n",
       "      <th>2010-11-01</th>\n",
       "      <td>1.0</td>\n",
       "      <td>NaN</td>\n",
       "      <td>1</td>\n",
       "      <td>0</td>\n",
       "    </tr>\n",
       "    <tr>\n",
       "      <th>2010-12-01</th>\n",
       "      <td>1.0</td>\n",
       "      <td>0</td>\n",
       "      <td>1</td>\n",
       "      <td>0</td>\n",
       "    </tr>\n",
       "    <tr>\n",
       "      <th>2011-01-01</th>\n",
       "      <td>1.0</td>\n",
       "      <td>0</td>\n",
       "      <td>2</td>\n",
       "      <td>0</td>\n",
       "    </tr>\n",
       "    <tr>\n",
       "      <th>2011-02-01</th>\n",
       "      <td>0.0</td>\n",
       "      <td>0</td>\n",
       "      <td>1</td>\n",
       "      <td>0</td>\n",
       "    </tr>\n",
       "    <tr>\n",
       "      <th>2011-03-01</th>\n",
       "      <td>1.0</td>\n",
       "      <td>0</td>\n",
       "      <td>2</td>\n",
       "      <td>0</td>\n",
       "    </tr>\n",
       "    <tr>\n",
       "      <th>...</th>\n",
       "      <td>...</td>\n",
       "      <td>...</td>\n",
       "      <td>...</td>\n",
       "      <td>...</td>\n",
       "    </tr>\n",
       "    <tr>\n",
       "      <th>2022-07-01</th>\n",
       "      <td>0.0</td>\n",
       "      <td>2</td>\n",
       "      <td>0</td>\n",
       "      <td>1</td>\n",
       "    </tr>\n",
       "    <tr>\n",
       "      <th>2022-08-01</th>\n",
       "      <td>0.0</td>\n",
       "      <td>2</td>\n",
       "      <td>0</td>\n",
       "      <td>1</td>\n",
       "    </tr>\n",
       "    <tr>\n",
       "      <th>2022-09-01</th>\n",
       "      <td>1.0</td>\n",
       "      <td>2</td>\n",
       "      <td>0</td>\n",
       "      <td>1</td>\n",
       "    </tr>\n",
       "    <tr>\n",
       "      <th>2022-10-01</th>\n",
       "      <td>0.0</td>\n",
       "      <td>2</td>\n",
       "      <td>0</td>\n",
       "      <td>1</td>\n",
       "    </tr>\n",
       "    <tr>\n",
       "      <th>2022-10-28</th>\n",
       "      <td>NaN</td>\n",
       "      <td>2</td>\n",
       "      <td>0</td>\n",
       "      <td>0</td>\n",
       "    </tr>\n",
       "  </tbody>\n",
       "</table>\n",
       "<p>145 rows × 4 columns</p>\n",
       "</div>"
      ],
      "text/plain": [
       "              y cat_SMA_2 cat_Volume cat_Force_Index\n",
       "Date                                                \n",
       "2010-11-01  1.0       NaN          1               0\n",
       "2010-12-01  1.0         0          1               0\n",
       "2011-01-01  1.0         0          2               0\n",
       "2011-02-01  0.0         0          1               0\n",
       "2011-03-01  1.0         0          2               0\n",
       "...         ...       ...        ...             ...\n",
       "2022-07-01  0.0         2          0               1\n",
       "2022-08-01  0.0         2          0               1\n",
       "2022-09-01  1.0         2          0               1\n",
       "2022-10-01  0.0         2          0               1\n",
       "2022-10-28  NaN         2          0               0\n",
       "\n",
       "[145 rows x 4 columns]"
      ]
     },
     "execution_count": 26,
     "metadata": {},
     "output_type": "execute_result"
    }
   ],
   "source": [
    "data"
   ]
  },
  {
   "cell_type": "code",
   "execution_count": 27,
   "id": "2c789af0",
   "metadata": {},
   "outputs": [],
   "source": [
    "#dataset -> data\n",
    "#dataset_yes -> ds_yes\n",
    "#ds_yes -> d_yes\n",
    "\n",
    "\n",
    "ds_yes = data[data['y']==1]"
   ]
  },
  {
   "cell_type": "code",
   "execution_count": 31,
   "id": "aa5847c1",
   "metadata": {},
   "outputs": [],
   "source": [
    "ds_no = data[data['y'] == 0]"
   ]
  },
  {
   "cell_type": "markdown",
   "id": "95626fb4",
   "metadata": {},
   "source": [
    "# Probablity Calculation"
   ]
  },
  {
   "cell_type": "code",
   "execution_count": 32,
   "id": "e48f6519",
   "metadata": {},
   "outputs": [],
   "source": [
    "p_yes = len(ds_yes)/len(data)\n",
    "p_no = len(ds_no)/len(data)"
   ]
  },
  {
   "cell_type": "code",
   "execution_count": 33,
   "id": "ba3c7cbf",
   "metadata": {},
   "outputs": [
    {
     "data": {
      "text/plain": [
       "0.5793103448275863"
      ]
     },
     "execution_count": 33,
     "metadata": {},
     "output_type": "execute_result"
    }
   ],
   "source": [
    "p_yes"
   ]
  },
  {
   "cell_type": "code",
   "execution_count": 34,
   "id": "2879eb9c",
   "metadata": {},
   "outputs": [
    {
     "data": {
      "text/plain": [
       "0.41379310344827586"
      ]
     },
     "execution_count": 34,
     "metadata": {},
     "output_type": "execute_result"
    }
   ],
   "source": [
    "p_no"
   ]
  },
  {
   "cell_type": "code",
   "execution_count": 35,
   "id": "513910ff",
   "metadata": {},
   "outputs": [],
   "source": [
    "d_yes = ds_yes.drop(['y'], axis = 1)\n",
    "d_no = ds_no.drop(['y'], axis = 1)"
   ]
  },
  {
   "cell_type": "code",
   "execution_count": 37,
   "id": "a30f0538",
   "metadata": {},
   "outputs": [],
   "source": [
    "list_yes = {}\n",
    "for feature in d_yes.columns:\n",
    "    tmp = d_yes.groupby(feature)\n",
    "    list_yes[feature] = tmp.size().apply(lambda x: x / len(d_yes))"
   ]
  },
  {
   "cell_type": "code",
   "execution_count": 38,
   "id": "09187cac",
   "metadata": {},
   "outputs": [
    {
     "data": {
      "text/plain": [
       "{'cat_SMA_2': cat_SMA_2\n",
       " 0    0.773810\n",
       " 1    0.083333\n",
       " 2    0.130952\n",
       " dtype: float64,\n",
       " 'cat_Volume': cat_Volume\n",
       " 0    0.678571\n",
       " 1    0.250000\n",
       " 2    0.071429\n",
       " dtype: float64,\n",
       " 'cat_Force_Index': cat_Force_Index\n",
       " 0    0.738095\n",
       " 1    0.250000\n",
       " 2    0.011905\n",
       " dtype: float64}"
      ]
     },
     "execution_count": 38,
     "metadata": {},
     "output_type": "execute_result"
    }
   ],
   "source": [
    "list_yes"
   ]
  },
  {
   "cell_type": "code",
   "execution_count": 39,
   "id": "17b88932",
   "metadata": {},
   "outputs": [],
   "source": [
    "list_no = {}\n",
    "for feature in d_no.columns:\n",
    "    tmp = d_no.groupby(feature)\n",
    "    list_no[feature] = tmp.size().apply(lambda x: x / len(d_no))"
   ]
  },
  {
   "cell_type": "markdown",
   "id": "6fb15ba8",
   "metadata": {},
   "source": [
    "Here sample instance called 'new_sample' is created for prediction "
   ]
  },
  {
   "cell_type": "code",
   "execution_count": 40,
   "id": "4d199094",
   "metadata": {},
   "outputs": [],
   "source": [
    "new_sample = [ 0, 1, 0]"
   ]
  },
  {
   "cell_type": "code",
   "execution_count": 41,
   "id": "184411db",
   "metadata": {},
   "outputs": [],
   "source": [
    "values = {}\n",
    "for feature in data.columns:\n",
    "    values[feature] = []"
   ]
  },
  {
   "cell_type": "code",
   "execution_count": 42,
   "id": "02dcd91e",
   "metadata": {},
   "outputs": [],
   "source": [
    "for feature in data.columns:\n",
    "    for i in data[feature].unique():\n",
    "        values[feature].append(i)"
   ]
  },
  {
   "cell_type": "code",
   "execution_count": 43,
   "id": "3c7cfafb",
   "metadata": {},
   "outputs": [
    {
     "data": {
      "text/plain": [
       "{'y': [1.0, 0.0, nan],\n",
       " 'cat_SMA_2': [nan, 0, 1, 2],\n",
       " 'cat_Volume': [1, 2, 0],\n",
       " 'cat_Force_Index': [0, 1, 2]}"
      ]
     },
     "execution_count": 43,
     "metadata": {},
     "output_type": "execute_result"
    }
   ],
   "source": [
    "values"
   ]
  },
  {
   "cell_type": "code",
   "execution_count": 44,
   "id": "6f7d3afc",
   "metadata": {},
   "outputs": [
    {
     "data": {
      "text/plain": [
       "{'cat_SMA_2': cat_SMA_2\n",
       " 0    0.733333\n",
       " 1    0.050000\n",
       " 2    0.216667\n",
       " dtype: float64,\n",
       " 'cat_Volume': cat_Volume\n",
       " 0    0.716667\n",
       " 1    0.150000\n",
       " 2    0.133333\n",
       " dtype: float64,\n",
       " 'cat_Force_Index': cat_Force_Index\n",
       " 0    0.600000\n",
       " 1    0.316667\n",
       " 2    0.083333\n",
       " dtype: float64}"
      ]
     },
     "execution_count": 44,
     "metadata": {},
     "output_type": "execute_result"
    }
   ],
   "source": [
    "list_no"
   ]
  },
  {
   "cell_type": "code",
   "execution_count": 45,
   "id": "4fec4c7d",
   "metadata": {},
   "outputs": [],
   "source": [
    "for feature in d_yes.columns:\n",
    "    for i in values[feature]:\n",
    "        if i not in list_no[feature]:\n",
    "            list_no[feature][i] = 0\n",
    "        if i not in list_yes[feature]:\n",
    "            list_yes[feature][i] = 0"
   ]
  },
  {
   "cell_type": "markdown",
   "id": "ff7ad16c",
   "metadata": {},
   "source": [
    "# Predicting "
   ]
  },
  {
   "cell_type": "code",
   "execution_count": 48,
   "id": "74f392dc",
   "metadata": {},
   "outputs": [
    {
     "name": "stdout",
     "output_type": "stream",
     "text": [
      "Upward movement is Predicted\n",
      "Upward movement is Predicted\n",
      "Upward movement is Predicted\n"
     ]
    }
   ],
   "source": [
    "i = 0\n",
    "for feature in list_yes.keys():\n",
    "    p_yes *= list_yes[feature][new_sample[i]]\n",
    "    p_no *= list_no[feature][new_sample[i]]\n",
    "    i += 1\n",
    "    \n",
    "    if p_yes > p_no:\n",
    "        print(\"Upward movement is Predicted\")\n",
    "    else:\n",
    "        print(\"Downward movement is predicted\")"
   ]
  },
  {
   "cell_type": "code",
   "execution_count": 77,
   "id": "e07cfa7e",
   "metadata": {},
   "outputs": [
    {
     "data": {
      "text/plain": [
       "0.08271756978653531"
      ]
     },
     "execution_count": 77,
     "metadata": {},
     "output_type": "execute_result"
    }
   ],
   "source": [
    "p_yes"
   ]
  },
  {
   "cell_type": "markdown",
   "id": "dc9dc28f",
   "metadata": {},
   "source": [
    "Here the probablity of Yes is greater than probablity of No, Hence upwards direction is predicted.\n"
   ]
  },
  {
   "cell_type": "code",
   "execution_count": 78,
   "id": "cfab6e36",
   "metadata": {},
   "outputs": [
    {
     "data": {
      "text/plain": [
       "0.027310344827586205"
      ]
     },
     "execution_count": 78,
     "metadata": {},
     "output_type": "execute_result"
    }
   ],
   "source": [
    "p_no"
   ]
  },
  {
   "cell_type": "markdown",
   "id": "0c55854c",
   "metadata": {},
   "source": [
    "# Result"
   ]
  },
  {
   "cell_type": "markdown",
   "id": "26ddd844",
   "metadata": {},
   "source": [
    "Thus, Navie Bayes Classifier is Implemented to predict the stock prices of a particular stock when the dataset is given."
   ]
  }
 ],
 "metadata": {
  "kernelspec": {
   "display_name": "Python 3 (ipykernel)",
   "language": "python",
   "name": "python3"
  },
  "language_info": {
   "codemirror_mode": {
    "name": "ipython",
    "version": 3
   },
   "file_extension": ".py",
   "mimetype": "text/x-python",
   "name": "python",
   "nbconvert_exporter": "python",
   "pygments_lexer": "ipython3",
   "version": "3.9.13"
  }
 },
 "nbformat": 4,
 "nbformat_minor": 5
}
