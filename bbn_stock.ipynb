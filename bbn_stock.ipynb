{
 "cells": [
  {
   "cell_type": "markdown",
   "id": "ca831cd9",
   "metadata": {},
   "source": [
    "# Bayesian Belief Network in Stock prediction"
   ]
  },
  {
   "cell_type": "markdown",
   "id": "f09dbec7",
   "metadata": {},
   "source": [
    "# Aim :"
   ]
  },
  {
   "cell_type": "markdown",
   "id": "45cde185",
   "metadata": {},
   "source": [
    "To verify bayesian belief network to predict stock price using the given features are dependent in a particular relation."
   ]
  },
  {
   "cell_type": "code",
   "execution_count": 74,
   "id": "fddf643a",
   "metadata": {},
   "outputs": [
    {
     "name": "stdout",
     "output_type": "stream",
     "text": [
      " Get the today date in Python is:  2022-11-04\n"
     ]
    }
   ],
   "source": [
    "import numpy as np \n",
    "import pandas as pd\n",
    "import matplotlib.pyplot as plt\n",
    "import seaborn as sns\n",
    "sns.set_style(\"darkgrid\")\n",
    "\n",
    "import pandas_datareader as pdr\n",
    "\n",
    "from sklearn.model_selection import train_test_split\n",
    "\n",
    "from sklearn.metrics import confusion_matrix\n",
    "from sklearn.metrics import f1_score\n",
    "\n",
    "from sklearn.metrics import accuracy_score\n",
    "\n",
    "from sklearn.naive_bayes import BernoulliNB\n",
    "from datetime import date \n",
    "\n",
    "\n",
    "import networkx as nx # for drawing graphs\n",
    "\n",
    "# for creating Bayesian Belief Networks (BBN)\n",
    "from pybbn.graph.dag import Bbn\n",
    "from pybbn.graph.edge import Edge, EdgeType\n",
    "from pybbn.graph.jointree import EvidenceBuilder\n",
    "from pybbn.graph.node import BbnNode\n",
    "from pybbn.graph.variable import Variable\n",
    "from pybbn.pptc.inferencecontroller import InferenceController\n",
    "\n",
    "\n",
    "\n",
    "td = date.today() # Use the today method and assign it to the td variable.\n",
    "\n",
    "print(\" Get the today date in Python is: \", td)  \n",
    "\n",
    "                     #   CODE    FROM_DATE  TO_DATE\n",
    "df = pdr.get_data_yahoo(\"AAPL\", \"2010-11-01\", td, interval =\"m\")\n",
    "df.to_csv(\"APP.csv\")\n",
    "\n",
    "df\n",
    "\n",
    "df[\"Diff\"] = df.Close.diff()\n",
    "\n",
    "# BINARY CLASSIFICATION\n"
   ]
  },
  {
   "cell_type": "markdown",
   "id": "de167f6d",
   "metadata": {},
   "source": [
    "#  Dataset overview:"
   ]
  },
  {
   "cell_type": "code",
   "execution_count": 75,
   "id": "1517e4f5",
   "metadata": {},
   "outputs": [
    {
     "name": "stdout",
     "output_type": "stream",
     "text": [
      "                  High         Low        Open       Close        Volume  \\\n",
      "Date                                                                       \n",
      "2010-11-01   11.475000   10.634286   10.793571   11.112500  9.508086e+09   \n",
      "2010-12-01   11.666429   11.246071   11.259643   11.520000  6.973235e+09   \n",
      "2011-01-01   12.450000   11.601429   11.630000   12.118571  1.084154e+10   \n",
      "2011-02-01   13.032143   12.061429   12.189286   12.614643  9.295950e+09   \n",
      "2011-03-01   12.916786   11.652143   12.695357   12.446786  1.130646e+10   \n",
      "...                ...         ...         ...         ...           ...   \n",
      "2022-08-01  176.149994  157.139999  161.009995  157.220001  1.510240e+09   \n",
      "2022-09-01  164.259995  138.000000  156.639999  138.199997  2.084238e+09   \n",
      "2022-10-01  157.500000  134.369995  138.210007  153.339996  1.867904e+09   \n",
      "2022-11-01  155.449997  138.750000  155.080002  138.880005  2.715560e+08   \n",
      "2022-11-03  142.794998  138.759995  142.059998  138.880005  9.791852e+07   \n",
      "\n",
      "                 Diff       SMA_2   Force_Index    y  \n",
      "Date                                                  \n",
      "2010-11-01        NaN         NaN  1.056586e+11  1.0  \n",
      "2010-12-01   0.407500   11.316250  8.033167e+10  1.0  \n",
      "2011-01-01   0.598571   11.819286  1.313839e+11  1.0  \n",
      "2011-02-01   0.496072   12.366607  1.172651e+11  0.0  \n",
      "2011-03-01  -0.167857   12.530715  1.407291e+11  1.0  \n",
      "...               ...         ...           ...  ...  \n",
      "2022-08-01  -5.289993  159.864998  2.374399e+11  0.0  \n",
      "2022-09-01 -19.020004  147.709999  2.880417e+11  1.0  \n",
      "2022-10-01  15.139999  145.769997  2.864243e+11  0.0  \n",
      "2022-11-01 -14.459991  146.110001  3.771370e+10  0.0  \n",
      "2022-11-03   0.000000  138.880005  1.359892e+10  NaN  \n",
      "\n",
      "[146 rows x 9 columns]\n"
     ]
    }
   ],
   "source": [
    "df[\"SMA_2\"] = df.Close.rolling(2).mean()\n",
    "\n",
    "\n",
    "# rolling (2)  Avg of 2 column and printing in in below column  \n",
    "\n",
    "df[\"Force_Index\"] = df[\"Close\"] * df[\"Volume\"]\n",
    "\n",
    "df[\"y\"] = df[\"Diff\"].apply(lambda x: 1 if x > 0 else 0).shift(-1)\n",
    "\n",
    "df.drop( ['Adj Close'] , axis =1, inplace=True)\n",
    "\n",
    "print(df)"
   ]
  },
  {
   "cell_type": "markdown",
   "id": "81bce66c",
   "metadata": {},
   "source": [
    "# Dataset Information :"
   ]
  },
  {
   "cell_type": "code",
   "execution_count": 76,
   "id": "147a7b23",
   "metadata": {},
   "outputs": [
    {
     "name": "stdout",
     "output_type": "stream",
     "text": [
      "<class 'pandas.core.frame.DataFrame'>\n",
      "DatetimeIndex: 146 entries, 2010-11-01 to 2022-11-03\n",
      "Data columns (total 9 columns):\n",
      " #   Column       Non-Null Count  Dtype  \n",
      "---  ------       --------------  -----  \n",
      " 0   High         146 non-null    float64\n",
      " 1   Low          146 non-null    float64\n",
      " 2   Open         146 non-null    float64\n",
      " 3   Close        146 non-null    float64\n",
      " 4   Volume       146 non-null    float64\n",
      " 5   Diff         145 non-null    float64\n",
      " 6   SMA_2        145 non-null    float64\n",
      " 7   Force_Index  146 non-null    float64\n",
      " 8   y            145 non-null    float64\n",
      "dtypes: float64(9)\n",
      "memory usage: 11.4 KB\n"
     ]
    }
   ],
   "source": [
    "df.info()"
   ]
  },
  {
   "cell_type": "code",
   "execution_count": 77,
   "id": "bdbe72c6",
   "metadata": {},
   "outputs": [
    {
     "data": {
      "text/plain": [
       "array([         nan,  11.31625032,  11.81928587,  12.36660719,\n",
       "        12.53071451,  12.47571468,  12.46357155,  12.2053566 ,\n",
       "        12.96696377,  13.84482145,  13.6812501 ,  14.0374999 ,\n",
       "        14.05321407,  14.05714273,  15.38357115,  17.83785629,\n",
       "        20.39267826,  21.13446426,  20.74482155,  20.74517918,\n",
       "        21.33500004,  22.78571415,  23.79178619,  22.5432148 ,\n",
       "        21.08214283,  19.95446396,  17.63678551,  16.01589298,\n",
       "        15.78678608,  15.81142855,  15.93767881,  15.11178637,\n",
       "        15.1617856 ,  16.78125   ,  17.21375084,  17.84732151,\n",
       "        19.26375008,  19.94803619,  18.9574995 ,  18.33642864,\n",
       "        18.98178673,  20.12196445,  21.84089279,  22.91982174,\n",
       "        23.56624985,  24.76249981,  25.40625   ,  26.09375   ,\n",
       "        28.36625004,  28.66374969,  28.44250011,  30.7025013 ,\n",
       "        31.61125088,  31.19750023,  31.92875004,  31.96374989,\n",
       "        30.84125042,  29.25750065,  27.88250065,  28.72500038,\n",
       "        29.72500038,  27.94500065,  25.32499981,  24.25374985,\n",
       "        25.71000004,  25.34124947,  24.19999981,  24.43249989,\n",
       "        24.97624969,  26.28874969,  27.39375019,  28.3237505 ,\n",
       "        28.00749969,  28.29249954,  29.64624977,  32.2925005 ,\n",
       "        35.08125114,  35.91374969,  37.05124855,  37.09749985,\n",
       "        36.59375   ,  39.09124947,  39.76499939,  40.39499855,\n",
       "        42.61124992,  42.63500023,  42.08249855,  43.19374847,\n",
       "        43.23749924,  41.62999916,  44.0162487 ,  46.49749947,\n",
       "        46.92499924,  52.23999977,  56.6712513 ,  55.57500076,\n",
       "        49.68000031,  42.04000092,  40.52250099,  42.44874954,\n",
       "        45.38749886,  48.82749939,  46.96750069,  46.62375069,\n",
       "        51.36999893,  52.72249985,  54.08875084,  59.09124947,\n",
       "        64.50124931,  70.11249924,  75.39500046,  72.85874939,\n",
       "        65.95624733,  68.51124763,  76.46749878,  85.34249878,\n",
       "        98.72999954, 117.64999771, 122.42499542, 112.33499908,\n",
       "       113.95500183, 125.87000275, 132.32500458, 126.61000443,\n",
       "       121.70500183, 126.80500412, 128.03500366, 130.78500366,\n",
       "       141.41000366, 148.84500122, 146.66500092, 145.65000153,\n",
       "       157.55000305, 171.43500519, 176.17500305, 169.94999695,\n",
       "       169.86499786, 166.12999725, 153.24499512, 142.77999878,\n",
       "       149.61499786, 159.86499786, 147.70999908, 145.76999664,\n",
       "       146.11000061, 138.88000488])"
      ]
     },
     "execution_count": 77,
     "metadata": {},
     "output_type": "execute_result"
    }
   ],
   "source": [
    "df.SMA_2.unique()"
   ]
  },
  {
   "cell_type": "markdown",
   "id": "22e01ee8",
   "metadata": {},
   "source": [
    "# Feature extraction :"
   ]
  },
  {
   "cell_type": "code",
   "execution_count": 78,
   "id": "efa5f503",
   "metadata": {},
   "outputs": [],
   "source": [
    "dataset = df[[\"SMA_2\", \"Volume\", \"Force_Index\", \"y\"]].copy()"
   ]
  },
  {
   "cell_type": "code",
   "execution_count": 79,
   "id": "3876a580",
   "metadata": {},
   "outputs": [
    {
     "data": {
      "text/html": [
       "<div>\n",
       "<style scoped>\n",
       "    .dataframe tbody tr th:only-of-type {\n",
       "        vertical-align: middle;\n",
       "    }\n",
       "\n",
       "    .dataframe tbody tr th {\n",
       "        vertical-align: top;\n",
       "    }\n",
       "\n",
       "    .dataframe thead th {\n",
       "        text-align: right;\n",
       "    }\n",
       "</style>\n",
       "<table border=\"1\" class=\"dataframe\">\n",
       "  <thead>\n",
       "    <tr style=\"text-align: right;\">\n",
       "      <th></th>\n",
       "      <th>SMA_2</th>\n",
       "      <th>Volume</th>\n",
       "      <th>Force_Index</th>\n",
       "      <th>y</th>\n",
       "    </tr>\n",
       "    <tr>\n",
       "      <th>Date</th>\n",
       "      <th></th>\n",
       "      <th></th>\n",
       "      <th></th>\n",
       "      <th></th>\n",
       "    </tr>\n",
       "  </thead>\n",
       "  <tbody>\n",
       "    <tr>\n",
       "      <th>2010-11-01</th>\n",
       "      <td>NaN</td>\n",
       "      <td>9.508086e+09</td>\n",
       "      <td>1.056586e+11</td>\n",
       "      <td>1.0</td>\n",
       "    </tr>\n",
       "    <tr>\n",
       "      <th>2010-12-01</th>\n",
       "      <td>11.316250</td>\n",
       "      <td>6.973235e+09</td>\n",
       "      <td>8.033167e+10</td>\n",
       "      <td>1.0</td>\n",
       "    </tr>\n",
       "    <tr>\n",
       "      <th>2011-01-01</th>\n",
       "      <td>11.819286</td>\n",
       "      <td>1.084154e+10</td>\n",
       "      <td>1.313839e+11</td>\n",
       "      <td>1.0</td>\n",
       "    </tr>\n",
       "    <tr>\n",
       "      <th>2011-02-01</th>\n",
       "      <td>12.366607</td>\n",
       "      <td>9.295950e+09</td>\n",
       "      <td>1.172651e+11</td>\n",
       "      <td>0.0</td>\n",
       "    </tr>\n",
       "    <tr>\n",
       "      <th>2011-03-01</th>\n",
       "      <td>12.530715</td>\n",
       "      <td>1.130646e+10</td>\n",
       "      <td>1.407291e+11</td>\n",
       "      <td>1.0</td>\n",
       "    </tr>\n",
       "    <tr>\n",
       "      <th>...</th>\n",
       "      <td>...</td>\n",
       "      <td>...</td>\n",
       "      <td>...</td>\n",
       "      <td>...</td>\n",
       "    </tr>\n",
       "    <tr>\n",
       "      <th>2022-08-01</th>\n",
       "      <td>159.864998</td>\n",
       "      <td>1.510240e+09</td>\n",
       "      <td>2.374399e+11</td>\n",
       "      <td>0.0</td>\n",
       "    </tr>\n",
       "    <tr>\n",
       "      <th>2022-09-01</th>\n",
       "      <td>147.709999</td>\n",
       "      <td>2.084238e+09</td>\n",
       "      <td>2.880417e+11</td>\n",
       "      <td>1.0</td>\n",
       "    </tr>\n",
       "    <tr>\n",
       "      <th>2022-10-01</th>\n",
       "      <td>145.769997</td>\n",
       "      <td>1.867904e+09</td>\n",
       "      <td>2.864243e+11</td>\n",
       "      <td>0.0</td>\n",
       "    </tr>\n",
       "    <tr>\n",
       "      <th>2022-11-01</th>\n",
       "      <td>146.110001</td>\n",
       "      <td>2.715560e+08</td>\n",
       "      <td>3.771370e+10</td>\n",
       "      <td>0.0</td>\n",
       "    </tr>\n",
       "    <tr>\n",
       "      <th>2022-11-03</th>\n",
       "      <td>138.880005</td>\n",
       "      <td>9.791852e+07</td>\n",
       "      <td>1.359892e+10</td>\n",
       "      <td>NaN</td>\n",
       "    </tr>\n",
       "  </tbody>\n",
       "</table>\n",
       "<p>146 rows × 4 columns</p>\n",
       "</div>"
      ],
      "text/plain": [
       "                 SMA_2        Volume   Force_Index    y\n",
       "Date                                                   \n",
       "2010-11-01         NaN  9.508086e+09  1.056586e+11  1.0\n",
       "2010-12-01   11.316250  6.973235e+09  8.033167e+10  1.0\n",
       "2011-01-01   11.819286  1.084154e+10  1.313839e+11  1.0\n",
       "2011-02-01   12.366607  9.295950e+09  1.172651e+11  0.0\n",
       "2011-03-01   12.530715  1.130646e+10  1.407291e+11  1.0\n",
       "...                ...           ...           ...  ...\n",
       "2022-08-01  159.864998  1.510240e+09  2.374399e+11  0.0\n",
       "2022-09-01  147.709999  2.084238e+09  2.880417e+11  1.0\n",
       "2022-10-01  145.769997  1.867904e+09  2.864243e+11  0.0\n",
       "2022-11-01  146.110001  2.715560e+08  3.771370e+10  0.0\n",
       "2022-11-03  138.880005  9.791852e+07  1.359892e+10  NaN\n",
       "\n",
       "[146 rows x 4 columns]"
      ]
     },
     "execution_count": 79,
     "metadata": {},
     "output_type": "execute_result"
    }
   ],
   "source": [
    "dataset"
   ]
  },
  {
   "cell_type": "markdown",
   "id": "4cdfbed2",
   "metadata": {},
   "source": [
    "# Categorical classification: "
   ]
  },
  {
   "cell_type": "code",
   "execution_count": 80,
   "id": "7150b71c",
   "metadata": {},
   "outputs": [],
   "source": [
    "dataset.dropna(inplace=True)"
   ]
  },
  {
   "cell_type": "code",
   "execution_count": 81,
   "id": "7f95b3d6",
   "metadata": {},
   "outputs": [],
   "source": [
    "dataset[\"SMA_2\"] = pd.cut(dataset[\"SMA_2\"], bins = 3, labels = [0,1,2])"
   ]
  },
  {
   "cell_type": "code",
   "execution_count": 82,
   "id": "973cbb30",
   "metadata": {},
   "outputs": [
    {
     "data": {
      "text/plain": [
       "[0, 1, 2]\n",
       "Categories (3, int64): [0 < 1 < 2]"
      ]
     },
     "execution_count": 82,
     "metadata": {},
     "output_type": "execute_result"
    }
   ],
   "source": [
    "dataset.SMA_2.unique()"
   ]
  },
  {
   "cell_type": "code",
   "execution_count": 83,
   "id": "407f152e",
   "metadata": {},
   "outputs": [],
   "source": [
    "dataset[\"Volume\"] = pd.cut(dataset[\"Volume\"], bins = 3, labels = [0,1,2])"
   ]
  },
  {
   "cell_type": "code",
   "execution_count": 84,
   "id": "f889a343",
   "metadata": {},
   "outputs": [
    {
     "data": {
      "text/plain": [
       "[1, 2, 0]\n",
       "Categories (3, int64): [0 < 1 < 2]"
      ]
     },
     "execution_count": 84,
     "metadata": {},
     "output_type": "execute_result"
    }
   ],
   "source": [
    "dataset.Volume.unique()"
   ]
  },
  {
   "cell_type": "code",
   "execution_count": 85,
   "id": "bb3c7128",
   "metadata": {},
   "outputs": [],
   "source": [
    "dataset[\"Force_Index\"] = pd.cut(dataset[\"Force_Index\"], bins = 3, labels = [0,1,2])"
   ]
  },
  {
   "cell_type": "code",
   "execution_count": 86,
   "id": "7c7b7194",
   "metadata": {},
   "outputs": [
    {
     "data": {
      "text/plain": [
       "[0, 1, 2]\n",
       "Categories (3, int64): [0 < 1 < 2]"
      ]
     },
     "execution_count": 86,
     "metadata": {},
     "output_type": "execute_result"
    }
   ],
   "source": [
    "dataset.Force_Index.unique()"
   ]
  },
  {
   "cell_type": "code",
   "execution_count": 87,
   "id": "10cfec79",
   "metadata": {},
   "outputs": [],
   "source": [
    "dataset[\"y\"] = pd.cut(dataset[\"y\"], bins = 3, labels = [0,1,2])"
   ]
  },
  {
   "cell_type": "code",
   "execution_count": 88,
   "id": "d1a43a10",
   "metadata": {},
   "outputs": [
    {
     "data": {
      "text/plain": [
       "[2, 0]\n",
       "Categories (3, int64): [0 < 1 < 2]"
      ]
     },
     "execution_count": 88,
     "metadata": {},
     "output_type": "execute_result"
    }
   ],
   "source": [
    "dataset.y.unique()"
   ]
  },
  {
   "cell_type": "markdown",
   "id": "1361a73a",
   "metadata": {},
   "source": [
    "# Categorized Dataset :"
   ]
  },
  {
   "cell_type": "code",
   "execution_count": 89,
   "id": "be5b0896",
   "metadata": {},
   "outputs": [
    {
     "data": {
      "text/html": [
       "<div>\n",
       "<style scoped>\n",
       "    .dataframe tbody tr th:only-of-type {\n",
       "        vertical-align: middle;\n",
       "    }\n",
       "\n",
       "    .dataframe tbody tr th {\n",
       "        vertical-align: top;\n",
       "    }\n",
       "\n",
       "    .dataframe thead th {\n",
       "        text-align: right;\n",
       "    }\n",
       "</style>\n",
       "<table border=\"1\" class=\"dataframe\">\n",
       "  <thead>\n",
       "    <tr style=\"text-align: right;\">\n",
       "      <th></th>\n",
       "      <th>SMA_2</th>\n",
       "      <th>Volume</th>\n",
       "      <th>Force_Index</th>\n",
       "      <th>y</th>\n",
       "    </tr>\n",
       "    <tr>\n",
       "      <th>Date</th>\n",
       "      <th></th>\n",
       "      <th></th>\n",
       "      <th></th>\n",
       "      <th></th>\n",
       "    </tr>\n",
       "  </thead>\n",
       "  <tbody>\n",
       "    <tr>\n",
       "      <th>2010-12-01</th>\n",
       "      <td>0</td>\n",
       "      <td>1</td>\n",
       "      <td>0</td>\n",
       "      <td>2</td>\n",
       "    </tr>\n",
       "    <tr>\n",
       "      <th>2011-01-01</th>\n",
       "      <td>0</td>\n",
       "      <td>1</td>\n",
       "      <td>0</td>\n",
       "      <td>2</td>\n",
       "    </tr>\n",
       "    <tr>\n",
       "      <th>2011-02-01</th>\n",
       "      <td>0</td>\n",
       "      <td>1</td>\n",
       "      <td>0</td>\n",
       "      <td>0</td>\n",
       "    </tr>\n",
       "    <tr>\n",
       "      <th>2011-03-01</th>\n",
       "      <td>0</td>\n",
       "      <td>2</td>\n",
       "      <td>0</td>\n",
       "      <td>2</td>\n",
       "    </tr>\n",
       "    <tr>\n",
       "      <th>2011-04-01</th>\n",
       "      <td>0</td>\n",
       "      <td>1</td>\n",
       "      <td>0</td>\n",
       "      <td>0</td>\n",
       "    </tr>\n",
       "    <tr>\n",
       "      <th>...</th>\n",
       "      <td>...</td>\n",
       "      <td>...</td>\n",
       "      <td>...</td>\n",
       "      <td>...</td>\n",
       "    </tr>\n",
       "    <tr>\n",
       "      <th>2022-07-01</th>\n",
       "      <td>2</td>\n",
       "      <td>0</td>\n",
       "      <td>1</td>\n",
       "      <td>0</td>\n",
       "    </tr>\n",
       "    <tr>\n",
       "      <th>2022-08-01</th>\n",
       "      <td>2</td>\n",
       "      <td>0</td>\n",
       "      <td>1</td>\n",
       "      <td>0</td>\n",
       "    </tr>\n",
       "    <tr>\n",
       "      <th>2022-09-01</th>\n",
       "      <td>2</td>\n",
       "      <td>0</td>\n",
       "      <td>1</td>\n",
       "      <td>2</td>\n",
       "    </tr>\n",
       "    <tr>\n",
       "      <th>2022-10-01</th>\n",
       "      <td>2</td>\n",
       "      <td>0</td>\n",
       "      <td>1</td>\n",
       "      <td>0</td>\n",
       "    </tr>\n",
       "    <tr>\n",
       "      <th>2022-11-01</th>\n",
       "      <td>2</td>\n",
       "      <td>0</td>\n",
       "      <td>0</td>\n",
       "      <td>0</td>\n",
       "    </tr>\n",
       "  </tbody>\n",
       "</table>\n",
       "<p>144 rows × 4 columns</p>\n",
       "</div>"
      ],
      "text/plain": [
       "           SMA_2 Volume Force_Index  y\n",
       "Date                                  \n",
       "2010-12-01     0      1           0  2\n",
       "2011-01-01     0      1           0  2\n",
       "2011-02-01     0      1           0  0\n",
       "2011-03-01     0      2           0  2\n",
       "2011-04-01     0      1           0  0\n",
       "...          ...    ...         ... ..\n",
       "2022-07-01     2      0           1  0\n",
       "2022-08-01     2      0           1  0\n",
       "2022-09-01     2      0           1  2\n",
       "2022-10-01     2      0           1  0\n",
       "2022-11-01     2      0           0  0\n",
       "\n",
       "[144 rows x 4 columns]"
      ]
     },
     "execution_count": 89,
     "metadata": {},
     "output_type": "execute_result"
    }
   ],
   "source": [
    "dataset"
   ]
  },
  {
   "cell_type": "markdown",
   "id": "757cafdb",
   "metadata": {},
   "source": [
    "# Calculate Bayesian Belief Networks :"
   ]
  },
  {
   "cell_type": "code",
   "execution_count": 90,
   "id": "b340eb38",
   "metadata": {},
   "outputs": [],
   "source": [
    "def probs(data, child, parent1=None, parent2=None):\n",
    "    if parent1==None:\n",
    "        # Calculate probabilities\n",
    "        prob=pd.crosstab(data[child], 'Empty', margins=False, normalize='columns').sort_index().to_numpy().reshape(-1).tolist()\n",
    "    elif parent1!=None:\n",
    "            # Check if child node has 1 parent or 2 parents\n",
    "            if parent2==None:\n",
    "                # Caclucate probabilities\n",
    "                prob=pd.crosstab(data[parent1],data[child], margins=False, normalize='index').sort_index().to_numpy().reshape(-1).tolist()\n",
    "            else:    \n",
    "                # Caclucate probabilities\n",
    "                prob=pd.crosstab([data[child],data[parent2]],data[parent1], margins=False, normalize='index').sort_index().to_numpy().reshape(-1).tolist()\n",
    "    else: print(\"Error in Probability Frequency Calculations\")\n",
    "    return prob  "
   ]
  },
  {
   "cell_type": "markdown",
   "id": "c2c40cb5",
   "metadata": {},
   "source": [
    "# Define relationship between features to form network :"
   ]
  },
  {
   "cell_type": "code",
   "execution_count": 91,
   "id": "b60f7a0c",
   "metadata": {},
   "outputs": [],
   "source": [
    "# Create nodes by using our earlier function to automatically calculate probabilities\n",
    "#    y- >ca  | fi - pl | vol - ap | sma - fd \n",
    "fi = BbnNode(Variable(0, 'fi', [0,1,2]), probs(dataset, child='Force_Index'))\n",
    "vol = BbnNode(Variable(1, 'vol', [0,1,2]), probs(dataset, child='Volume', parent1='Force_Index'))\n",
    "sma = BbnNode(Variable(2, 'sma', [0,1,2]), probs(dataset, child='SMA_2'))\n",
    "y = BbnNode(Variable(3, 'y', [0, 2]), probs(dataset, child='y' ,parent1='Volume', parent2='SMA_2'))\n",
    "\n",
    "# Create Network\n",
    "bbn = Bbn() \\\n",
    "    .add_node(fi) \\\n",
    "    .add_node(vol) \\\n",
    "    .add_node(sma) \\\n",
    "    .add_node(y) \\\n",
    "    .add_edge(Edge(fi, vol, EdgeType.DIRECTED)) \\\n",
    "    .add_edge(Edge(vol, y, EdgeType.DIRECTED)) \\\n",
    "    .add_edge(Edge(sma, y, EdgeType.DIRECTED))\n",
    "\n",
    "# Convert the BBN to a join tree\n",
    "join_tree = InferenceController.apply(bbn)"
   ]
  },
  {
   "cell_type": "markdown",
   "id": "8adaff45",
   "metadata": {},
   "source": [
    "# Print the network relation :"
   ]
  },
  {
   "cell_type": "code",
   "execution_count": 92,
   "id": "2613c76d",
   "metadata": {},
   "outputs": [
    {
     "data": {
      "image/png": "[encoded data removed]",
      "text/plain": [
       "<Figure size 640x480 with 1 Axes>"
      ]
     },
     "metadata": {},
     "output_type": "display_data"
    }
   ],
   "source": [
    "pos = {0: (-1, 2), 1: (-1, 0.5), 2: (1, 0.5), 3: (0, -1)}\n",
    "\n",
    "# Set options for graph looks\n",
    "options = {\n",
    "    \"font_size\": 16,\n",
    "    \"node_size\": 4000,\n",
    "    \"node_color\": \"white\",\n",
    "    \"edgecolors\": \"black\",\n",
    "    \"edge_color\": \"red\",\n",
    "    \"linewidths\": 5,\n",
    "    \"width\": 5,}\n",
    "    \n",
    "# Generate graph\n",
    "n, d = bbn.to_nx_graph()\n",
    "nx.draw(n, with_labels=True, labels=d, pos=pos, **options)\n",
    "\n",
    "# Update margins and print the graph\n",
    "ax = plt.gca()\n",
    "ax.margins(0.10)\n",
    "plt.axis(\"off\")\n",
    "plt.show()"
   ]
  },
  {
   "cell_type": "code",
   "execution_count": 93,
   "id": "8e88b63b",
   "metadata": {},
   "outputs": [
    {
     "name": "stdout",
     "output_type": "stream",
     "text": [
      "Values:\n",
      "1=0|0.65821\n",
      "1=1|0.24197\n",
      "1=2|0.09982\n",
      "----------------\n",
      "Values:\n",
      "0=0|0.69970\n",
      "0=1|0.25965\n",
      "0=2|0.04065\n",
      "----------------\n",
      "Values:\n",
      "2=0|0.88362\n",
      "2=1|0.09702\n",
      "2=2|0.01936\n",
      "----------------\n",
      "Values:\n",
      "3=0|0.76581\n",
      "3=2|0.23419\n",
      "----------------\n"
     ]
    },
    {
     "data": {
      "text/plain": [
       "[<pybbn.graph.node.BbnNode at 0x14692d726d0>,\n",
       " <pybbn.graph.node.BbnNode at 0x14699c25c70>,\n",
       " <pybbn.graph.node.BbnNode at 0x1469ae13400>,\n",
       " <pybbn.graph.node.BbnNode at 0x1469ae66e20>]"
      ]
     },
     "execution_count": 93,
     "metadata": {},
     "output_type": "execute_result"
    }
   ],
   "source": [
    "def print_probs():\n",
    "    for node in join_tree.get_bbn_nodes():\n",
    "        potential = join_tree.get_bbn_potential(node)\n",
    "        print(\"Values:\")\n",
    "        print(potential)\n",
    "        print('----------------')\n",
    "        \n",
    "        \n",
    "# Use the above function to print marginal probabilities\n",
    "print_probs()\n",
    "join_tree.get_bbn_nodes()"
   ]
  },
  {
   "cell_type": "markdown",
   "id": "c5092981",
   "metadata": {},
   "source": [
    "# Building the Evidence :"
   ]
  },
  {
   "cell_type": "code",
   "execution_count": 94,
   "id": "efef90c6",
   "metadata": {},
   "outputs": [],
   "source": [
    "# To add evidence of events that happened so probability distribution can be recalculated\n",
    "def evidence(ev, nod, cat, val):\n",
    "    ev = EvidenceBuilder().with_node(join_tree.get_bbn_node_by_name(nod)).with_evidence(cat, val).build()\n",
    "    join_tree.set_observation(ev)"
   ]
  },
  {
   "cell_type": "code",
   "execution_count": 95,
   "id": "9cabcd25",
   "metadata": {},
   "outputs": [],
   "source": [
    "#    y- >ca  | fi - pl | vol - ap | sma - fd \n",
    "p_fi_yes=join_tree.get_bbn_potential(fi).entries[0].value\n",
    "p_fi_no=join_tree.get_bbn_potential(fi).entries[1].value"
   ]
  },
  {
   "cell_type": "code",
   "execution_count": 96,
   "id": "cf592aa3",
   "metadata": {},
   "outputs": [
    {
     "name": "stdout",
     "output_type": "stream",
     "text": [
      "0=0|0.69970\n",
      "0=1|0.25965\n",
      "0=2|0.04065\n"
     ]
    }
   ],
   "source": [
    "print(join_tree.get_bbn_potential(fi))"
   ]
  },
  {
   "cell_type": "code",
   "execution_count": 97,
   "id": "dbc73506",
   "metadata": {},
   "outputs": [],
   "source": [
    "p_sma_yes=join_tree.get_bbn_potential(sma).entries[0].value\n",
    "p_sma_no=join_tree.get_bbn_potential(sma).entries[1].value"
   ]
  },
  {
   "cell_type": "code",
   "execution_count": 98,
   "id": "adc23fd5",
   "metadata": {},
   "outputs": [
    {
     "name": "stdout",
     "output_type": "stream",
     "text": [
      "2=0|0.88362\n",
      "2=1|0.09702\n",
      "2=2|0.01936\n"
     ]
    }
   ],
   "source": [
    "print(join_tree.get_bbn_potential(sma))"
   ]
  },
  {
   "cell_type": "markdown",
   "id": "4c56d817",
   "metadata": {},
   "source": [
    "# Probablity :"
   ]
  },
  {
   "cell_type": "code",
   "execution_count": 99,
   "id": "6ea89ad7",
   "metadata": {},
   "outputs": [
    {
     "data": {
      "text/plain": [
       "<pybbn.graph.jointree.JoinTree at 0x14699bd1fd0>"
      ]
     },
     "execution_count": 99,
     "metadata": {},
     "output_type": "execute_result"
    }
   ],
   "source": [
    "#p(avg packet/packet length)\n",
    "evidence('eve1','fi',0,1.0)\n",
    "p_vol_fi_yes=join_tree.get_bbn_potential(vol).entries[0].value\n",
    "join_tree.unobserve([fi])\n",
    "\n",
    "#p(avg packet/~packet length)                                                 \n",
    "evidence('eve1','fi',1,1.0)\n",
    "p_vol_fi_no=join_tree.get_bbn_potential(vol).entries[1].value\n",
    "join_tree.unobserve([fi])\n"
   ]
  },
  {
   "cell_type": "code",
   "execution_count": 100,
   "id": "d9b9085d",
   "metadata": {},
   "outputs": [],
   "source": [
    "p_vol_yes=p_vol_fi_yes * p_fi_yes + p_vol_fi_no * p_fi_no  #vol - app || fi - pl    || sm - fd \n",
    "p_vol_no=1-p_vol_yes\n",
    "#    y- >ca  | fi - pl | vol - ap | sma - fd "
   ]
  },
  {
   "cell_type": "code",
   "execution_count": 101,
   "id": "878b0aca",
   "metadata": {},
   "outputs": [
    {
     "data": {
      "text/plain": [
       "<pybbn.graph.jointree.JoinTree at 0x14699bd1fd0>"
      ]
     },
     "execution_count": 101,
     "metadata": {},
     "output_type": "execute_result"
    }
   ],
   "source": [
    "evidence('eve1','vol',0,1.0)\n",
    "evidence('eve2','sma',0,1.0)\n",
    "p_vol_yes_sma_yes=join_tree.get_bbn_potential(y).entries[1].value\n",
    "join_tree.unobserve([vol,sma])\n",
    "\n",
    "#Class p(ca/ap,~fd)\n",
    "evidence('eve1','vol',0,1.0)\n",
    "evidence('eve2','sma',1,1.0)\n",
    "p_vol_yes_sma_no=join_tree.get_bbn_potential(y).entries[1].value\n",
    "join_tree.unobserve([vol,sma])\n",
    "\n",
    "#Class p(ca/~ap,fd)\n",
    "evidence('eve1','vol',1,1.0)\n",
    "evidence('eve2','sma',0,1.0)\n",
    "p_vol_no_sma_yes=join_tree.get_bbn_potential(y).entries[0].value\n",
    "join_tree.unobserve([vol,sma])\n",
    "\n",
    "#Class p(ca/~ap,~fd)\n",
    "evidence('eve1','vol',1,1.0)\n",
    "evidence('eve2','sma',1,1.0)\n",
    "p_vol_no_sma_no=join_tree.get_bbn_potential(y).entries[0].value\n",
    "join_tree.unobserve([vol,sma])"
   ]
  },
  {
   "cell_type": "code",
   "execution_count": 102,
   "id": "6d11b560",
   "metadata": {},
   "outputs": [
    {
     "data": {
      "text/plain": [
       "0.6216338000246387"
      ]
     },
     "execution_count": 102,
     "metadata": {},
     "output_type": "execute_result"
    }
   ],
   "source": [
    "#    y- >ca  | fi - pl | vol - ap | sma - fd \n",
    "\n",
    "p_y_yes=p_vol_yes_sma_yes*p_vol_yes*p_sma_yes +\\\n",
    "p_vol_yes_sma_no*p_vol_yes*p_sma_no + \\\n",
    "p_vol_no_sma_yes*p_vol_no*p_sma_yes + \\\n",
    "p_vol_no_sma_no*p_vol_no*p_sma_no\n",
    "\n",
    "p_y_no=1-p_y_yes\n",
    "p_y_yes"
   ]
  },
  {
   "cell_type": "code",
   "execution_count": 103,
   "id": "b4ea1938",
   "metadata": {},
   "outputs": [
    {
     "data": {
      "text/plain": [
       "0.37836619997536125"
      ]
     },
     "execution_count": 103,
     "metadata": {},
     "output_type": "execute_result"
    }
   ],
   "source": [
    "p_y_no"
   ]
  },
  {
   "cell_type": "markdown",
   "id": "e90b7de4",
   "metadata": {},
   "source": [
    "# Prediction :"
   ]
  },
  {
   "cell_type": "code",
   "execution_count": 104,
   "id": "d5390d4c",
   "metadata": {},
   "outputs": [
    {
     "name": "stdout",
     "output_type": "stream",
     "text": [
      "The Prediction is upwards...\n"
     ]
    }
   ],
   "source": [
    "if p_y_yes > p_y_no :\n",
    "    print(\"The Prediction is upwards...\")\n",
    "else :\n",
    "    print(\"The prediction is Downwards..\")"
   ]
  },
  {
   "cell_type": "markdown",
   "id": "dc72c19e",
   "metadata": {},
   "source": [
    "# Result :"
   ]
  },
  {
   "cell_type": "markdown",
   "id": "5e4aac74",
   "metadata": {},
   "source": [
    "    Thus,Bayesian Belief Network is verfied by given relation and result is predicted."
   ]
  },
  {
   "cell_type": "code",
   "execution_count": null,
   "id": "6261f5c6",
   "metadata": {},
   "outputs": [],
   "source": []
  }
 ],
 "metadata": {
  "kernelspec": {
   "display_name": "Python 3 (ipykernel)",
   "language": "python",
   "name": "python3"
  },
  "language_info": {
   "codemirror_mode": {
    "name": "ipython",
    "version": 3
   },
   "file_extension": ".py",
   "mimetype": "text/x-python",
   "name": "python",
   "nbconvert_exporter": "python",
   "pygments_lexer": "ipython3",
   "version": "3.9.13"
  }
 },
 "nbformat": 4,
 "nbformat_minor": 5
}
